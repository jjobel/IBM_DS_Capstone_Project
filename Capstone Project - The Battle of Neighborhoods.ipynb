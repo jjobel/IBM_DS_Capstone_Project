{
    "cells": [
        {
            "cell_type": "markdown",
            "metadata": {
                "collapsed": true
            },
            "source": "# Capstone Project - The Battle of Electronic Stores "
        },
        {
            "cell_type": "markdown",
            "metadata": {},
            "source": "## Table of Contents \n* [Business Problem](#intro)\n* [Data](#data)"
        },
        {
            "cell_type": "markdown",
            "metadata": {},
            "source": "## Business Problem <a name=\"intro\"></a>"
        },
        {
            "cell_type": "markdown",
            "metadata": {},
            "source": "This project is geared toward stakeholders particularly interested in identifying an optimal location for a **computer electronics store** business in Los Angeles, California. The business is aimed at computer enthusiast and professional online gamers, thus providing a large variety of computers, computer parts, electronics, softwares, and gaming supplies. \n\nWe will focus our attention on locations which **do not have more than two electronics stores in the area and are not primarly residential neighborhoods**. We would also prefer to consider locations which **contain malls, shopping centers, and a large population of retail stores**. \n\nEach location will then be recommended based on how close it satifies the above criteria along with a description of the advantages of choosing that location versus other candidates.  "
        },
        {
            "cell_type": "markdown",
            "metadata": {},
            "source": "## Data <a name=\"data\"></a>"
        },
        {
            "cell_type": "markdown",
            "metadata": {},
            "source": "The data used consists of the following:\n\n* Names of neighborhoods and regions within Los Angeles County were obtained through web scraping the Los Angeles Times' Mapping LA project. This data has been previously used by the City of Los Angeles Open Data portal to map out neighborhood boundaries.\n\n* We make use of the neighborhood names data to obtain the longitude and latitude coordinates of each neighborhood using Geocoder ArcGIS API. \n\n* We use the Fouresquare API to obtain the most common venues in each nieghborhood.\n\n* The number of electronic stores within each neighborhood will also be used to determine if a location will be recommended to our stakeholders or not. "
        },
        {
            "cell_type": "code",
            "execution_count": null,
            "metadata": {},
            "outputs": [],
            "source": ""
        }
    ],
    "metadata": {
        "kernelspec": {
            "display_name": "Python 3.7",
            "language": "python",
            "name": "python3"
        },
        "language_info": {
            "codemirror_mode": {
                "name": "ipython",
                "version": 3
            },
            "file_extension": ".py",
            "mimetype": "text/x-python",
            "name": "python",
            "nbconvert_exporter": "python",
            "pygments_lexer": "ipython3",
            "version": "3.7.9"
        }
    },
    "nbformat": 4,
    "nbformat_minor": 1
}